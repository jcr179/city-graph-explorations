{
 "cells": [
  {
   "cell_type": "markdown",
   "metadata": {},
   "source": [
    "# Hello world"
   ]
  },
  {
   "cell_type": "code",
   "execution_count": 445,
   "metadata": {},
   "outputs": [],
   "source": [
    "%matplotlib inline\n",
    "\n",
    "import matplotlib.pyplot as plt\n",
    "from igraph import *"
   ]
  },
  {
   "cell_type": "code",
   "execution_count": 2,
   "metadata": {},
   "outputs": [
    {
     "data": {
      "image/svg+xml": [
       "<?xml version=\"1.0\" encoding=\"UTF-8\"?>\n",
       "<svg xmlns=\"http://www.w3.org/2000/svg\" xmlns:xlink=\"http://www.w3.org/1999/xlink\" width=\"600pt\" height=\"600pt\" viewBox=\"0 0 600 600\" version=\"1.1\">\n",
       "<g id=\"surface2\">\n",
       "<rect x=\"0\" y=\"0\" width=\"600\" height=\"600\" style=\"fill:rgb(100%,100%,100%);fill-opacity:1;stroke:none;\"/>\n",
       "<path style=\"fill:none;stroke-width:1;stroke-linecap:butt;stroke-linejoin:miter;stroke:rgb(26.666667%,26.666667%,26.666667%);stroke-opacity:1;stroke-miterlimit:10;\" d=\"M 571.070313 479.722656 L 188.390625 492.960938 \"/>\n",
       "<path style=\"fill:none;stroke-width:1;stroke-linecap:butt;stroke-linejoin:miter;stroke:rgb(26.666667%,26.666667%,26.666667%);stroke-opacity:1;stroke-miterlimit:10;\" d=\"M 571.070313 479.722656 L 365.320313 580 \"/>\n",
       "<path style=\"fill:none;stroke-width:1;stroke-linecap:butt;stroke-linejoin:miter;stroke:rgb(26.666667%,26.666667%,26.666667%);stroke-opacity:1;stroke-miterlimit:10;\" d=\"M 571.070313 479.722656 L 577.40625 125.894531 \"/>\n",
       "<path style=\"fill:none;stroke-width:1;stroke-linecap:butt;stroke-linejoin:miter;stroke:rgb(26.666667%,26.666667%,26.666667%);stroke-opacity:1;stroke-miterlimit:10;\" d=\"M 188.390625 492.960938 L 22.964844 191.308594 \"/>\n",
       "<path style=\"fill:none;stroke-width:1;stroke-linecap:butt;stroke-linejoin:miter;stroke:rgb(26.666667%,26.666667%,26.666667%);stroke-opacity:1;stroke-miterlimit:10;\" d=\"M 188.390625 492.960938 L 322.496094 299.863281 \"/>\n",
       "<path style=\"fill:none;stroke-width:1;stroke-linecap:butt;stroke-linejoin:miter;stroke:rgb(26.666667%,26.666667%,26.666667%);stroke-opacity:1;stroke-miterlimit:10;\" d=\"M 22.964844 191.308594 L 20 397.472656 \"/>\n",
       "<path style=\"fill:none;stroke-width:1;stroke-linecap:butt;stroke-linejoin:miter;stroke:rgb(26.666667%,26.666667%,26.666667%);stroke-opacity:1;stroke-miterlimit:10;\" d=\"M 22.964844 191.308594 L 375.042969 20 \"/>\n",
       "<path style=\"fill:none;stroke-width:1;stroke-linecap:butt;stroke-linejoin:miter;stroke:rgb(26.666667%,26.666667%,26.666667%);stroke-opacity:1;stroke-miterlimit:10;\" d=\"M 20 397.472656 L 365.320313 580 \"/>\n",
       "<path style=\"fill:none;stroke-width:1;stroke-linecap:butt;stroke-linejoin:miter;stroke:rgb(26.666667%,26.666667%,26.666667%);stroke-opacity:1;stroke-miterlimit:10;\" d=\"M 20 397.472656 L 197.632813 101.792969 \"/>\n",
       "<path style=\"fill:none;stroke-width:1;stroke-linecap:butt;stroke-linejoin:miter;stroke:rgb(26.666667%,26.666667%,26.666667%);stroke-opacity:1;stroke-miterlimit:10;\" d=\"M 365.320313 580 L 580 302.507813 \"/>\n",
       "<path style=\"fill:none;stroke-width:1;stroke-linecap:butt;stroke-linejoin:miter;stroke:rgb(26.666667%,26.666667%,26.666667%);stroke-opacity:1;stroke-miterlimit:10;\" d=\"M 577.40625 125.894531 L 375.042969 20 \"/>\n",
       "<path style=\"fill:none;stroke-width:1;stroke-linecap:butt;stroke-linejoin:miter;stroke:rgb(26.666667%,26.666667%,26.666667%);stroke-opacity:1;stroke-miterlimit:10;\" d=\"M 577.40625 125.894531 L 197.632813 101.792969 \"/>\n",
       "<path style=\"fill:none;stroke-width:1;stroke-linecap:butt;stroke-linejoin:miter;stroke:rgb(26.666667%,26.666667%,26.666667%);stroke-opacity:1;stroke-miterlimit:10;\" d=\"M 322.496094 299.863281 L 197.632813 101.792969 \"/>\n",
       "<path style=\"fill:none;stroke-width:1;stroke-linecap:butt;stroke-linejoin:miter;stroke:rgb(26.666667%,26.666667%,26.666667%);stroke-opacity:1;stroke-miterlimit:10;\" d=\"M 322.496094 299.863281 L 580 302.507813 \"/>\n",
       "<path style=\"fill:none;stroke-width:1;stroke-linecap:butt;stroke-linejoin:miter;stroke:rgb(26.666667%,26.666667%,26.666667%);stroke-opacity:1;stroke-miterlimit:10;\" d=\"M 375.042969 20 L 580 302.507813 \"/>\n",
       "<path style=\"fill-rule:nonzero;fill:rgb(100%,0%,0%);fill-opacity:1;stroke-width:1;stroke-linecap:butt;stroke-linejoin:miter;stroke:rgb(0%,0%,0%);stroke-opacity:1;stroke-miterlimit:10;\" d=\"M 581.070313 479.722656 C 581.070313 485.246094 576.59375 489.722656 571.070313 489.722656 C 565.546875 489.722656 561.070313 485.246094 561.070313 479.722656 C 561.070313 474.199219 565.546875 469.722656 571.070313 469.722656 C 576.59375 469.722656 581.070313 474.199219 581.070313 479.722656 \"/>\n",
       "<path style=\"fill-rule:nonzero;fill:rgb(100%,0%,0%);fill-opacity:1;stroke-width:1;stroke-linecap:butt;stroke-linejoin:miter;stroke:rgb(0%,0%,0%);stroke-opacity:1;stroke-miterlimit:10;\" d=\"M 198.390625 492.960938 C 198.390625 498.484375 193.910156 502.960938 188.390625 502.960938 C 182.867188 502.960938 178.390625 498.484375 178.390625 492.960938 C 178.390625 487.4375 182.867188 482.960938 188.390625 482.960938 C 193.910156 482.960938 198.390625 487.4375 198.390625 492.960938 \"/>\n",
       "<path style=\"fill-rule:nonzero;fill:rgb(100%,0%,0%);fill-opacity:1;stroke-width:1;stroke-linecap:butt;stroke-linejoin:miter;stroke:rgb(0%,0%,0%);stroke-opacity:1;stroke-miterlimit:10;\" d=\"M 32.964844 191.308594 C 32.964844 196.832031 28.488281 201.308594 22.964844 201.308594 C 17.441406 201.308594 12.964844 196.832031 12.964844 191.308594 C 12.964844 185.785156 17.441406 181.308594 22.964844 181.308594 C 28.488281 181.308594 32.964844 185.785156 32.964844 191.308594 \"/>\n",
       "<path style=\"fill-rule:nonzero;fill:rgb(100%,0%,0%);fill-opacity:1;stroke-width:1;stroke-linecap:butt;stroke-linejoin:miter;stroke:rgb(0%,0%,0%);stroke-opacity:1;stroke-miterlimit:10;\" d=\"M 30 397.472656 C 30 402.996094 25.523438 407.472656 20 407.472656 C 14.476563 407.472656 10 402.996094 10 397.472656 C 10 391.949219 14.476563 387.472656 20 387.472656 C 25.523438 387.472656 30 391.949219 30 397.472656 \"/>\n",
       "<path style=\"fill-rule:nonzero;fill:rgb(100%,0%,0%);fill-opacity:1;stroke-width:1;stroke-linecap:butt;stroke-linejoin:miter;stroke:rgb(0%,0%,0%);stroke-opacity:1;stroke-miterlimit:10;\" d=\"M 375.320313 580 C 375.320313 585.523438 370.839844 590 365.320313 590 C 359.796875 590 355.320313 585.523438 355.320313 580 C 355.320313 574.476563 359.796875 570 365.320313 570 C 370.839844 570 375.320313 574.476563 375.320313 580 \"/>\n",
       "<path style=\"fill-rule:nonzero;fill:rgb(100%,0%,0%);fill-opacity:1;stroke-width:1;stroke-linecap:butt;stroke-linejoin:miter;stroke:rgb(0%,0%,0%);stroke-opacity:1;stroke-miterlimit:10;\" d=\"M 587.40625 125.894531 C 587.40625 131.417969 582.929688 135.894531 577.40625 135.894531 C 571.886719 135.894531 567.40625 131.417969 567.40625 125.894531 C 567.40625 120.371094 571.886719 115.894531 577.40625 115.894531 C 582.929688 115.894531 587.40625 120.371094 587.40625 125.894531 \"/>\n",
       "<path style=\"fill-rule:nonzero;fill:rgb(100%,0%,0%);fill-opacity:1;stroke-width:1;stroke-linecap:butt;stroke-linejoin:miter;stroke:rgb(0%,0%,0%);stroke-opacity:1;stroke-miterlimit:10;\" d=\"M 332.496094 299.863281 C 332.496094 305.386719 328.019531 309.863281 322.496094 309.863281 C 316.972656 309.863281 312.496094 305.386719 312.496094 299.863281 C 312.496094 294.339844 316.972656 289.863281 322.496094 289.863281 C 328.019531 289.863281 332.496094 294.339844 332.496094 299.863281 \"/>\n",
       "<path style=\"fill-rule:nonzero;fill:rgb(100%,0%,0%);fill-opacity:1;stroke-width:1;stroke-linecap:butt;stroke-linejoin:miter;stroke:rgb(0%,0%,0%);stroke-opacity:1;stroke-miterlimit:10;\" d=\"M 385.042969 20 C 385.042969 25.523438 380.566406 30 375.042969 30 C 369.519531 30 365.042969 25.523438 365.042969 20 C 365.042969 14.476563 369.519531 10 375.042969 10 C 380.566406 10 385.042969 14.476563 385.042969 20 \"/>\n",
       "<path style=\"fill-rule:nonzero;fill:rgb(100%,0%,0%);fill-opacity:1;stroke-width:1;stroke-linecap:butt;stroke-linejoin:miter;stroke:rgb(0%,0%,0%);stroke-opacity:1;stroke-miterlimit:10;\" d=\"M 207.632813 101.792969 C 207.632813 107.3125 203.15625 111.792969 197.632813 111.792969 C 192.109375 111.792969 187.632813 107.3125 187.632813 101.792969 C 187.632813 96.269531 192.109375 91.792969 197.632813 91.792969 C 203.15625 91.792969 207.632813 96.269531 207.632813 101.792969 \"/>\n",
       "<path style=\"fill-rule:nonzero;fill:rgb(100%,0%,0%);fill-opacity:1;stroke-width:1;stroke-linecap:butt;stroke-linejoin:miter;stroke:rgb(0%,0%,0%);stroke-opacity:1;stroke-miterlimit:10;\" d=\"M 590 302.507813 C 590 308.03125 585.523438 312.507813 580 312.507813 C 574.476563 312.507813 570 308.03125 570 302.507813 C 570 296.984375 574.476563 292.507813 580 292.507813 C 585.523438 292.507813 590 296.984375 590 302.507813 \"/>\n",
       "</g>\n",
       "</svg>\n"
      ],
      "text/plain": [
       "<igraph.drawing.Plot at 0x249430f0748>"
      ]
     },
     "execution_count": 2,
     "metadata": {},
     "output_type": "execute_result"
    }
   ],
   "source": [
    "g = Graph.Famous(\"petersen\")\n",
    "plot(g)"
   ]
  },
  {
   "cell_type": "code",
   "execution_count": 6,
   "metadata": {},
   "outputs": [
    {
     "data": {
      "text/plain": [
       "[igraph.Vertex(<igraph.Graph object at 0x00000249430CE4F8>, 0, {}),\n",
       " igraph.Vertex(<igraph.Graph object at 0x00000249430CE4F8>, 1, {}),\n",
       " igraph.Vertex(<igraph.Graph object at 0x00000249430CE4F8>, 2, {}),\n",
       " igraph.Vertex(<igraph.Graph object at 0x00000249430CE4F8>, 3, {}),\n",
       " igraph.Vertex(<igraph.Graph object at 0x00000249430CE4F8>, 4, {}),\n",
       " igraph.Vertex(<igraph.Graph object at 0x00000249430CE4F8>, 5, {}),\n",
       " igraph.Vertex(<igraph.Graph object at 0x00000249430CE4F8>, 6, {}),\n",
       " igraph.Vertex(<igraph.Graph object at 0x00000249430CE4F8>, 7, {}),\n",
       " igraph.Vertex(<igraph.Graph object at 0x00000249430CE4F8>, 8, {}),\n",
       " igraph.Vertex(<igraph.Graph object at 0x00000249430CE4F8>, 9, {})]"
      ]
     },
     "execution_count": 6,
     "metadata": {},
     "output_type": "execute_result"
    }
   ],
   "source": [
    "list(g.vs)"
   ]
  },
  {
   "cell_type": "markdown",
   "metadata": {},
   "source": [
    "# Adding custom attributes to vertices: a code"
   ]
  },
  {
   "cell_type": "code",
   "execution_count": 26,
   "metadata": {},
   "outputs": [],
   "source": [
    "from igraph import *"
   ]
  },
  {
   "cell_type": "code",
   "execution_count": 242,
   "metadata": {},
   "outputs": [
    {
     "name": "stdout",
     "output_type": "stream",
     "text": [
      "Unique codes: [0, 1, 2, 3, 4, 5, 6, 7, 8, 9]\n",
      "Random IDs: [7, 1, 5, 0, 2, 2, 2, 6, 7, 9]\n"
     ]
    }
   ],
   "source": [
    "from random import randint, sample, choices\n",
    "\n",
    "# sample: sample without replacement\n",
    "# choices: sample with replacement\n",
    "\n",
    "N = 10 # Number of street segments/vertices\n",
    "\n",
    "# Unique code generator \n",
    "unique_code = list(range(N))\n",
    "print('Unique codes:', unique_code) \n",
    "\n",
    "# Random code generator\n",
    "#weights = [55, 5, 5, 5, 5, 5, 5, 5, 5, 5] # for biasing sample choices. Has to be same length as population being sampled (N)\n",
    "#random_id = choices(unique_id, weights=weights, k=N)\n",
    "random_code = choices(unique_code, k=N)\n",
    "print('Random IDs:', random_code)"
   ]
  },
  {
   "cell_type": "code",
   "execution_count": 243,
   "metadata": {},
   "outputs": [],
   "source": [
    "# Code select\n",
    "code = random_code"
   ]
  },
  {
   "cell_type": "code",
   "execution_count": 244,
   "metadata": {},
   "outputs": [],
   "source": [
    "# Graph with given number of nodes n and edge probability p (p parameter can be replaced with m, the number of edges)\n",
    "# https://igraph.org/python/doc/igraph.GraphBase-class.html#Erdos_Renyi\n",
    "graph = Graph.Erdos_Renyi(n=N, m=N*2, directed=False, loops=False)"
   ]
  },
  {
   "cell_type": "code",
   "execution_count": 245,
   "metadata": {},
   "outputs": [
    {
     "data": {
      "image/svg+xml": [
       "<?xml version=\"1.0\" encoding=\"UTF-8\"?>\n",
       "<svg xmlns=\"http://www.w3.org/2000/svg\" xmlns:xlink=\"http://www.w3.org/1999/xlink\" width=\"600pt\" height=\"600pt\" viewBox=\"0 0 600 600\" version=\"1.1\">\n",
       "<defs>\n",
       "<g>\n",
       "<symbol overflow=\"visible\" id=\"glyph0-0\">\n",
       "<path style=\"stroke:none;\" d=\"M 1.75 0 L 1.75 -8.75 L 8.75 -8.75 L 8.75 0 Z M 1.96875 -0.21875 L 8.53125 -0.21875 L 8.53125 -8.53125 L 1.96875 -8.53125 Z M 1.96875 -0.21875 \"/>\n",
       "</symbol>\n",
       "<symbol overflow=\"visible\" id=\"glyph0-1\">\n",
       "<path style=\"stroke:none;\" d=\"M 0.664063 -8.710938 L 0.664063 -9.890625 L 7.148438 -9.890625 L 7.148438 -8.933594 C 6.511719 -8.25 5.878906 -7.347656 5.253906 -6.226563 C 4.625 -5.097656 4.140625 -3.941406 3.800781 -2.753906 C 3.550781 -1.914063 3.394531 -0.996094 3.328125 0 L 2.0625 0 C 2.078125 -0.789063 2.230469 -1.738281 2.527344 -2.855469 C 2.820313 -3.96875 3.246094 -5.046875 3.800781 -6.085938 C 4.351563 -7.121094 4.941406 -7.996094 5.570313 -8.710938 Z M 0.664063 -8.710938 \"/>\n",
       "</symbol>\n",
       "<symbol overflow=\"visible\" id=\"glyph0-2\">\n",
       "<path style=\"stroke:none;\" d=\"M 5.214844 0 L 3.984375 0 L 3.984375 -7.839844 C 3.6875 -7.558594 3.296875 -7.273438 2.816406 -6.992188 C 2.335938 -6.707031 1.90625 -6.496094 1.523438 -6.359375 L 1.523438 -7.546875 C 2.210938 -7.867188 2.8125 -8.257813 3.328125 -8.722656 C 3.84375 -9.179688 4.207031 -9.625 4.421875 -10.0625 L 5.214844 -10.0625 Z M 5.214844 0 \"/>\n",
       "</symbol>\n",
       "<symbol overflow=\"visible\" id=\"glyph0-3\">\n",
       "<path style=\"stroke:none;\" d=\"M 0.582031 -2.625 L 1.875 -2.734375 C 1.96875 -2.101563 2.1875 -1.628906 2.539063 -1.3125 C 2.882813 -0.996094 3.304688 -0.835938 3.800781 -0.839844 C 4.390625 -0.835938 4.890625 -1.058594 5.304688 -1.507813 C 5.710938 -1.953125 5.917969 -2.546875 5.921875 -3.289063 C 5.917969 -3.984375 5.71875 -4.539063 5.328125 -4.949219 C 4.929688 -5.351563 4.414063 -5.554688 3.78125 -5.558594 C 3.382813 -5.554688 3.027344 -5.464844 2.707031 -5.285156 C 2.386719 -5.105469 2.132813 -4.871094 1.953125 -4.585938 L 0.800781 -4.738281 L 1.769531 -9.882813 L 6.753906 -9.882813 L 6.753906 -8.710938 L 2.753906 -8.710938 L 2.214844 -6.015625 C 2.816406 -6.433594 3.445313 -6.644531 4.109375 -6.644531 C 4.980469 -6.644531 5.71875 -6.339844 6.324219 -5.734375 C 6.921875 -5.128906 7.222656 -4.351563 7.226563 -3.398438 C 7.222656 -2.492188 6.960938 -1.707031 6.433594 -1.046875 C 5.789063 -0.234375 4.910156 0.167969 3.800781 0.171875 C 2.886719 0.167969 2.140625 -0.0820313 1.566406 -0.59375 C 0.988281 -1.101563 0.660156 -1.78125 0.582031 -2.625 Z M 0.582031 -2.625 \"/>\n",
       "</symbol>\n",
       "<symbol overflow=\"visible\" id=\"glyph0-4\">\n",
       "<path style=\"stroke:none;\" d=\"M 0.582031 -4.941406 C 0.578125 -6.121094 0.699219 -7.074219 0.945313 -7.800781 C 1.1875 -8.519531 1.550781 -9.078125 2.03125 -9.472656 C 2.511719 -9.863281 3.117188 -10.058594 3.847656 -10.0625 C 4.382813 -10.058594 4.855469 -9.953125 5.261719 -9.738281 C 5.667969 -9.519531 6 -9.207031 6.265625 -8.800781 C 6.527344 -8.390625 6.738281 -7.890625 6.890625 -7.308594 C 7.039063 -6.722656 7.113281 -5.933594 7.117188 -4.941406 C 7.113281 -3.761719 6.992188 -2.8125 6.753906 -2.09375 C 6.507813 -1.367188 6.144531 -0.808594 5.667969 -0.417969 C 5.183594 -0.0234375 4.578125 0.167969 3.847656 0.171875 C 2.878906 0.167969 2.121094 -0.175781 1.570313 -0.867188 C 0.910156 -1.699219 0.578125 -3.054688 0.582031 -4.941406 Z M 1.84375 -4.941406 C 1.839844 -3.292969 2.03125 -2.199219 2.421875 -1.65625 C 2.804688 -1.109375 3.28125 -0.835938 3.847656 -0.839844 C 4.410156 -0.835938 4.886719 -1.109375 5.273438 -1.660156 C 5.65625 -2.203125 5.847656 -3.296875 5.851563 -4.941406 C 5.847656 -6.589844 5.65625 -7.6875 5.273438 -8.230469 C 4.886719 -8.769531 4.40625 -9.039063 3.835938 -9.042969 C 3.269531 -9.039063 2.816406 -8.800781 2.480469 -8.328125 C 2.050781 -7.710938 1.839844 -6.582031 1.84375 -4.941406 Z M 1.84375 -4.941406 \"/>\n",
       "</symbol>\n",
       "<symbol overflow=\"visible\" id=\"glyph0-5\">\n",
       "<path style=\"stroke:none;\" d=\"M 7.046875 -1.183594 L 7.046875 0 L 0.421875 0 C 0.414063 -0.296875 0.460938 -0.582031 0.566406 -0.855469 C 0.734375 -1.304688 1.003906 -1.746094 1.375 -2.1875 C 1.746094 -2.621094 2.285156 -3.128906 2.988281 -3.703125 C 4.074219 -4.597656 4.808594 -5.304688 5.195313 -5.828125 C 5.574219 -6.347656 5.765625 -6.839844 5.769531 -7.308594 C 5.765625 -7.792969 5.589844 -8.203125 5.246094 -8.539063 C 4.894531 -8.871094 4.441406 -9.039063 3.882813 -9.042969 C 3.285156 -9.039063 2.8125 -8.863281 2.460938 -8.507813 C 2.105469 -8.152344 1.925781 -7.660156 1.921875 -7.035156 L 0.65625 -7.164063 C 0.742188 -8.105469 1.066406 -8.824219 1.632813 -9.320313 C 2.195313 -9.8125 2.953125 -10.058594 3.910156 -10.0625 C 4.867188 -10.058594 5.628906 -9.792969 6.191406 -9.261719 C 6.75 -8.726563 7.03125 -8.066406 7.035156 -7.28125 C 7.03125 -6.878906 6.949219 -6.484375 6.789063 -6.097656 C 6.621094 -5.707031 6.347656 -5.296875 5.96875 -4.871094 C 5.585938 -4.441406 4.953125 -3.855469 4.074219 -3.109375 C 3.332031 -2.488281 2.859375 -2.066406 2.652344 -1.847656 C 2.4375 -1.621094 2.265625 -1.402344 2.132813 -1.183594 Z M 7.046875 -1.183594 \"/>\n",
       "</symbol>\n",
       "<symbol overflow=\"visible\" id=\"glyph0-6\">\n",
       "<path style=\"stroke:none;\" d=\"M 6.964844 -7.566406 L 5.742188 -7.472656 C 5.632813 -7.949219 5.476563 -8.300781 5.277344 -8.523438 C 4.941406 -8.871094 4.53125 -9.046875 4.046875 -9.050781 C 3.652344 -9.046875 3.308594 -8.9375 3.015625 -8.722656 C 2.625 -8.4375 2.320313 -8.023438 2.097656 -7.484375 C 1.875 -6.9375 1.757813 -6.167969 1.75 -5.167969 C 2.042969 -5.617188 2.40625 -5.949219 2.835938 -6.171875 C 3.265625 -6.386719 3.714844 -6.496094 4.183594 -6.5 C 5.003906 -6.496094 5.699219 -6.195313 6.277344 -5.59375 C 6.851563 -4.988281 7.140625 -4.207031 7.144531 -3.253906 C 7.140625 -2.621094 7.003906 -2.039063 6.734375 -1.5 C 6.460938 -0.960938 6.089844 -0.546875 5.617188 -0.257813 C 5.140625 0.0273438 4.605469 0.167969 4.007813 0.171875 C 2.980469 0.167969 2.140625 -0.207031 1.496094 -0.960938 C 0.847656 -1.714844 0.527344 -2.957031 0.527344 -4.6875 C 0.527344 -6.625 0.882813 -8.03125 1.601563 -8.914063 C 2.21875 -9.675781 3.058594 -10.058594 4.121094 -10.0625 C 4.90625 -10.058594 5.554688 -9.839844 6.058594 -9.398438 C 6.5625 -8.953125 6.863281 -8.339844 6.964844 -7.566406 Z M 1.941406 -3.246094 C 1.9375 -2.820313 2.027344 -2.414063 2.210938 -2.027344 C 2.386719 -1.640625 2.640625 -1.34375 2.964844 -1.144531 C 3.289063 -0.9375 3.628906 -0.835938 3.984375 -0.839844 C 4.503906 -0.835938 4.949219 -1.046875 5.324219 -1.46875 C 5.695313 -1.886719 5.882813 -2.457031 5.886719 -3.179688 C 5.882813 -3.871094 5.699219 -4.417969 5.332031 -4.816406 C 4.960938 -5.214844 4.496094 -5.414063 3.9375 -5.414063 C 3.378906 -5.414063 2.90625 -5.214844 2.519531 -4.816406 C 2.132813 -4.417969 1.9375 -3.894531 1.941406 -3.246094 Z M 1.941406 -3.246094 \"/>\n",
       "</symbol>\n",
       "<symbol overflow=\"visible\" id=\"glyph0-7\">\n",
       "<path style=\"stroke:none;\" d=\"M 0.765625 -2.316406 L 1.949219 -2.425781 C 2.046875 -1.871094 2.238281 -1.464844 2.519531 -1.214844 C 2.800781 -0.960938 3.164063 -0.835938 3.609375 -0.839844 C 3.984375 -0.835938 4.3125 -0.921875 4.601563 -1.097656 C 4.882813 -1.269531 5.117188 -1.503906 5.304688 -1.792969 C 5.484375 -2.082031 5.636719 -2.472656 5.761719 -2.964844 C 5.878906 -3.457031 5.941406 -3.957031 5.945313 -4.46875 C 5.941406 -4.523438 5.941406 -4.605469 5.941406 -4.71875 C 5.691406 -4.320313 5.351563 -4.003906 4.929688 -3.761719 C 4.5 -3.519531 4.039063 -3.398438 3.546875 -3.398438 C 2.714844 -3.398438 2.015625 -3.699219 1.441406 -4.300781 C 0.867188 -4.902344 0.578125 -5.695313 0.582031 -6.679688 C 0.578125 -7.695313 0.878906 -8.511719 1.480469 -9.132813 C 2.078125 -9.75 2.828125 -10.058594 3.734375 -10.0625 C 4.382813 -10.058594 4.980469 -9.882813 5.519531 -9.535156 C 6.058594 -9.179688 6.46875 -8.679688 6.75 -8.035156 C 7.03125 -7.382813 7.171875 -6.445313 7.171875 -5.214844 C 7.171875 -3.933594 7.03125 -2.914063 6.753906 -2.15625 C 6.472656 -1.398438 6.058594 -0.820313 5.511719 -0.421875 C 4.960938 -0.0273438 4.316406 0.167969 3.582031 0.171875 C 2.792969 0.167969 2.152344 -0.046875 1.660156 -0.480469 C 1.160156 -0.914063 0.863281 -1.523438 0.765625 -2.316406 Z M 5.804688 -6.742188 C 5.800781 -7.445313 5.613281 -8.003906 5.238281 -8.421875 C 4.863281 -8.832031 4.410156 -9.039063 3.882813 -9.042969 C 3.332031 -9.039063 2.855469 -8.816406 2.453125 -8.371094 C 2.042969 -7.921875 1.839844 -7.34375 1.84375 -6.636719 C 1.839844 -5.996094 2.03125 -5.476563 2.421875 -5.082031 C 2.804688 -4.679688 3.28125 -4.480469 3.847656 -4.484375 C 4.414063 -4.480469 4.882813 -4.679688 5.253906 -5.082031 C 5.617188 -5.476563 5.800781 -6.03125 5.804688 -6.742188 Z M 5.804688 -6.742188 \"/>\n",
       "</symbol>\n",
       "</g>\n",
       "</defs>\n",
       "<g id=\"surface68\">\n",
       "<rect x=\"0\" y=\"0\" width=\"600\" height=\"600\" style=\"fill:rgb(100%,100%,100%);fill-opacity:1;stroke:none;\"/>\n",
       "<path style=\"fill:none;stroke-width:1;stroke-linecap:butt;stroke-linejoin:miter;stroke:rgb(26.666667%,26.666667%,26.666667%);stroke-opacity:1;stroke-miterlimit:10;\" d=\"M 237.042969 326.6875 L 253.058594 20 \"/>\n",
       "<path style=\"fill:none;stroke-width:1;stroke-linecap:butt;stroke-linejoin:miter;stroke:rgb(26.666667%,26.666667%,26.666667%);stroke-opacity:1;stroke-miterlimit:10;\" d=\"M 102.757813 97.929688 L 253.058594 20 \"/>\n",
       "<path style=\"fill:none;stroke-width:1;stroke-linecap:butt;stroke-linejoin:miter;stroke:rgb(26.666667%,26.666667%,26.666667%);stroke-opacity:1;stroke-miterlimit:10;\" d=\"M 580 200.746094 L 427.050781 79.609375 \"/>\n",
       "<path style=\"fill:none;stroke-width:1;stroke-linecap:butt;stroke-linejoin:miter;stroke:rgb(26.666667%,26.666667%,26.666667%);stroke-opacity:1;stroke-miterlimit:10;\" d=\"M 237.042969 326.6875 L 427.050781 79.609375 \"/>\n",
       "<path style=\"fill:none;stroke-width:1;stroke-linecap:butt;stroke-linejoin:miter;stroke:rgb(26.666667%,26.666667%,26.666667%);stroke-opacity:1;stroke-miterlimit:10;\" d=\"M 253.058594 20 L 427.050781 79.609375 \"/>\n",
       "<path style=\"fill:none;stroke-width:1;stroke-linecap:butt;stroke-linejoin:miter;stroke:rgb(26.666667%,26.666667%,26.666667%);stroke-opacity:1;stroke-miterlimit:10;\" d=\"M 237.042969 326.6875 L 352.820313 580 \"/>\n",
       "<path style=\"fill:none;stroke-width:1;stroke-linecap:butt;stroke-linejoin:miter;stroke:rgb(26.666667%,26.666667%,26.666667%);stroke-opacity:1;stroke-miterlimit:10;\" d=\"M 580 200.746094 L 430.113281 371.199219 \"/>\n",
       "<path style=\"fill:none;stroke-width:1;stroke-linecap:butt;stroke-linejoin:miter;stroke:rgb(26.666667%,26.666667%,26.666667%);stroke-opacity:1;stroke-miterlimit:10;\" d=\"M 237.042969 326.6875 L 430.113281 371.199219 \"/>\n",
       "<path style=\"fill:none;stroke-width:1;stroke-linecap:butt;stroke-linejoin:miter;stroke:rgb(26.666667%,26.666667%,26.666667%);stroke-opacity:1;stroke-miterlimit:10;\" d=\"M 427.050781 79.609375 L 430.113281 371.199219 \"/>\n",
       "<path style=\"fill:none;stroke-width:1;stroke-linecap:butt;stroke-linejoin:miter;stroke:rgb(26.666667%,26.666667%,26.666667%);stroke-opacity:1;stroke-miterlimit:10;\" d=\"M 352.820313 580 L 430.113281 371.199219 \"/>\n",
       "<path style=\"fill:none;stroke-width:1;stroke-linecap:butt;stroke-linejoin:miter;stroke:rgb(26.666667%,26.666667%,26.666667%);stroke-opacity:1;stroke-miterlimit:10;\" d=\"M 580 200.746094 L 544.40625 440.308594 \"/>\n",
       "<path style=\"fill:none;stroke-width:1;stroke-linecap:butt;stroke-linejoin:miter;stroke:rgb(26.666667%,26.666667%,26.666667%);stroke-opacity:1;stroke-miterlimit:10;\" d=\"M 352.820313 580 L 544.40625 440.308594 \"/>\n",
       "<path style=\"fill:none;stroke-width:1;stroke-linecap:butt;stroke-linejoin:miter;stroke:rgb(26.666667%,26.666667%,26.666667%);stroke-opacity:1;stroke-miterlimit:10;\" d=\"M 430.113281 371.199219 L 544.40625 440.308594 \"/>\n",
       "<path style=\"fill:none;stroke-width:1;stroke-linecap:butt;stroke-linejoin:miter;stroke:rgb(26.666667%,26.666667%,26.666667%);stroke-opacity:1;stroke-miterlimit:10;\" d=\"M 580 200.746094 L 358.414063 194.964844 \"/>\n",
       "<path style=\"fill:none;stroke-width:1;stroke-linecap:butt;stroke-linejoin:miter;stroke:rgb(26.666667%,26.666667%,26.666667%);stroke-opacity:1;stroke-miterlimit:10;\" d=\"M 102.757813 97.929688 L 358.414063 194.964844 \"/>\n",
       "<path style=\"fill:none;stroke-width:1;stroke-linecap:butt;stroke-linejoin:miter;stroke:rgb(26.666667%,26.666667%,26.666667%);stroke-opacity:1;stroke-miterlimit:10;\" d=\"M 253.058594 20 L 358.414063 194.964844 \"/>\n",
       "<path style=\"fill:none;stroke-width:1;stroke-linecap:butt;stroke-linejoin:miter;stroke:rgb(26.666667%,26.666667%,26.666667%);stroke-opacity:1;stroke-miterlimit:10;\" d=\"M 427.050781 79.609375 L 358.414063 194.964844 \"/>\n",
       "<path style=\"fill:none;stroke-width:1;stroke-linecap:butt;stroke-linejoin:miter;stroke:rgb(26.666667%,26.666667%,26.666667%);stroke-opacity:1;stroke-miterlimit:10;\" d=\"M 544.40625 440.308594 L 358.414063 194.964844 \"/>\n",
       "<path style=\"fill:none;stroke-width:1;stroke-linecap:butt;stroke-linejoin:miter;stroke:rgb(26.666667%,26.666667%,26.666667%);stroke-opacity:1;stroke-miterlimit:10;\" d=\"M 237.042969 326.6875 L 20 334.273438 \"/>\n",
       "<path style=\"fill:none;stroke-width:1;stroke-linecap:butt;stroke-linejoin:miter;stroke:rgb(26.666667%,26.666667%,26.666667%);stroke-opacity:1;stroke-miterlimit:10;\" d=\"M 102.757813 97.929688 L 20 334.273438 \"/>\n",
       "<path style=\"fill-rule:nonzero;fill:rgb(100%,0%,0%);fill-opacity:1;stroke-width:1;stroke-linecap:butt;stroke-linejoin:miter;stroke:rgb(0%,0%,0%);stroke-opacity:1;stroke-miterlimit:10;\" d=\"M 590 200.746094 C 590 206.269531 585.523438 210.746094 580 210.746094 C 574.476563 210.746094 570 206.269531 570 200.746094 C 570 195.222656 574.476563 190.746094 580 190.746094 C 585.523438 190.746094 590 195.222656 590 200.746094 \"/>\n",
       "<path style=\"fill-rule:nonzero;fill:rgb(100%,0%,0%);fill-opacity:1;stroke-width:1;stroke-linecap:butt;stroke-linejoin:miter;stroke:rgb(0%,0%,0%);stroke-opacity:1;stroke-miterlimit:10;\" d=\"M 247.042969 326.6875 C 247.042969 332.210938 242.566406 336.6875 237.042969 336.6875 C 231.519531 336.6875 227.042969 332.210938 227.042969 326.6875 C 227.042969 321.164063 231.519531 316.6875 237.042969 316.6875 C 242.566406 316.6875 247.042969 321.164063 247.042969 326.6875 \"/>\n",
       "<path style=\"fill-rule:nonzero;fill:rgb(100%,0%,0%);fill-opacity:1;stroke-width:1;stroke-linecap:butt;stroke-linejoin:miter;stroke:rgb(0%,0%,0%);stroke-opacity:1;stroke-miterlimit:10;\" d=\"M 112.757813 97.929688 C 112.757813 103.453125 108.277344 107.929688 102.757813 107.929688 C 97.234375 107.929688 92.757813 103.453125 92.757813 97.929688 C 92.757813 92.40625 97.234375 87.929688 102.757813 87.929688 C 108.277344 87.929688 112.757813 92.40625 112.757813 97.929688 \"/>\n",
       "<path style=\"fill-rule:nonzero;fill:rgb(100%,0%,0%);fill-opacity:1;stroke-width:1;stroke-linecap:butt;stroke-linejoin:miter;stroke:rgb(0%,0%,0%);stroke-opacity:1;stroke-miterlimit:10;\" d=\"M 263.058594 20 C 263.058594 25.523438 258.582031 30 253.058594 30 C 247.535156 30 243.058594 25.523438 243.058594 20 C 243.058594 14.476563 247.535156 10 253.058594 10 C 258.582031 10 263.058594 14.476563 263.058594 20 \"/>\n",
       "<path style=\"fill-rule:nonzero;fill:rgb(100%,0%,0%);fill-opacity:1;stroke-width:1;stroke-linecap:butt;stroke-linejoin:miter;stroke:rgb(0%,0%,0%);stroke-opacity:1;stroke-miterlimit:10;\" d=\"M 437.050781 79.609375 C 437.050781 85.132813 432.574219 89.609375 427.050781 89.609375 C 421.527344 89.609375 417.050781 85.132813 417.050781 79.609375 C 417.050781 74.085938 421.527344 69.609375 427.050781 69.609375 C 432.574219 69.609375 437.050781 74.085938 437.050781 79.609375 \"/>\n",
       "<path style=\"fill-rule:nonzero;fill:rgb(100%,0%,0%);fill-opacity:1;stroke-width:1;stroke-linecap:butt;stroke-linejoin:miter;stroke:rgb(0%,0%,0%);stroke-opacity:1;stroke-miterlimit:10;\" d=\"M 362.820313 580 C 362.820313 585.523438 358.34375 590 352.820313 590 C 347.296875 590 342.820313 585.523438 342.820313 580 C 342.820313 574.476563 347.296875 570 352.820313 570 C 358.34375 570 362.820313 574.476563 362.820313 580 \"/>\n",
       "<path style=\"fill-rule:nonzero;fill:rgb(100%,0%,0%);fill-opacity:1;stroke-width:1;stroke-linecap:butt;stroke-linejoin:miter;stroke:rgb(0%,0%,0%);stroke-opacity:1;stroke-miterlimit:10;\" d=\"M 440.113281 371.199219 C 440.113281 376.71875 435.636719 381.199219 430.113281 381.199219 C 424.589844 381.199219 420.113281 376.71875 420.113281 371.199219 C 420.113281 365.675781 424.589844 361.199219 430.113281 361.199219 C 435.636719 361.199219 440.113281 365.675781 440.113281 371.199219 \"/>\n",
       "<path style=\"fill-rule:nonzero;fill:rgb(100%,0%,0%);fill-opacity:1;stroke-width:1;stroke-linecap:butt;stroke-linejoin:miter;stroke:rgb(0%,0%,0%);stroke-opacity:1;stroke-miterlimit:10;\" d=\"M 554.40625 440.308594 C 554.40625 445.828125 549.929688 450.308594 544.40625 450.308594 C 538.882813 450.308594 534.40625 445.828125 534.40625 440.308594 C 534.40625 434.785156 538.882813 430.308594 544.40625 430.308594 C 549.929688 430.308594 554.40625 434.785156 554.40625 440.308594 \"/>\n",
       "<path style=\"fill-rule:nonzero;fill:rgb(100%,0%,0%);fill-opacity:1;stroke-width:1;stroke-linecap:butt;stroke-linejoin:miter;stroke:rgb(0%,0%,0%);stroke-opacity:1;stroke-miterlimit:10;\" d=\"M 368.414063 194.964844 C 368.414063 200.488281 363.9375 204.964844 358.414063 204.964844 C 352.890625 204.964844 348.414063 200.488281 348.414063 194.964844 C 348.414063 189.445313 352.890625 184.964844 358.414063 184.964844 C 363.9375 184.964844 368.414063 189.445313 368.414063 194.964844 \"/>\n",
       "<path style=\"fill-rule:nonzero;fill:rgb(100%,0%,0%);fill-opacity:1;stroke-width:1;stroke-linecap:butt;stroke-linejoin:miter;stroke:rgb(0%,0%,0%);stroke-opacity:1;stroke-miterlimit:10;\" d=\"M 30 334.273438 C 30 339.796875 25.523438 344.273438 20 344.273438 C 14.476563 344.273438 10 339.796875 10 334.273438 C 10 328.75 14.476563 324.273438 20 324.273438 C 25.523438 324.273438 30 328.75 30 334.273438 \"/>\n",
       "<g style=\"fill:rgb(0%,0%,0%);fill-opacity:1;\">\n",
       "  <use xlink:href=\"#glyph0-1\" x=\"576.09375\" y=\"207.191406\"/>\n",
       "</g>\n",
       "<g style=\"fill:rgb(0%,0%,0%);fill-opacity:1;\">\n",
       "  <use xlink:href=\"#glyph0-2\" x=\"233.671875\" y=\"333.21875\"/>\n",
       "</g>\n",
       "<g style=\"fill:rgb(0%,0%,0%);fill-opacity:1;\">\n",
       "  <use xlink:href=\"#glyph0-3\" x=\"98.851563\" y=\"104.371094\"/>\n",
       "</g>\n",
       "<g style=\"fill:rgb(0%,0%,0%);fill-opacity:1;\">\n",
       "  <use xlink:href=\"#glyph0-4\" x=\"249.210938\" y=\"26.53125\"/>\n",
       "</g>\n",
       "<g style=\"fill:rgb(0%,0%,0%);fill-opacity:1;\">\n",
       "  <use xlink:href=\"#glyph0-5\" x=\"423.320313\" y=\"86.140625\"/>\n",
       "</g>\n",
       "<g style=\"fill:rgb(0%,0%,0%);fill-opacity:1;\">\n",
       "  <use xlink:href=\"#glyph0-5\" x=\"349.09375\" y=\"586.53125\"/>\n",
       "</g>\n",
       "<g style=\"fill:rgb(0%,0%,0%);fill-opacity:1;\">\n",
       "  <use xlink:href=\"#glyph0-5\" x=\"426.382813\" y=\"377.730469\"/>\n",
       "</g>\n",
       "<g style=\"fill:rgb(0%,0%,0%);fill-opacity:1;\">\n",
       "  <use xlink:href=\"#glyph0-6\" x=\"540.574219\" y=\"446.839844\"/>\n",
       "</g>\n",
       "<g style=\"fill:rgb(0%,0%,0%);fill-opacity:1;\">\n",
       "  <use xlink:href=\"#glyph0-1\" x=\"354.507813\" y=\"201.414063\"/>\n",
       "</g>\n",
       "<g style=\"fill:rgb(0%,0%,0%);fill-opacity:1;\">\n",
       "  <use xlink:href=\"#glyph0-7\" x=\"16.125\" y=\"340.804688\"/>\n",
       "</g>\n",
       "</g>\n",
       "</svg>\n"
      ],
      "text/plain": [
       "<igraph.drawing.Plot at 0x274bbba95c0>"
      ]
     },
     "execution_count": 245,
     "metadata": {},
     "output_type": "execute_result"
    }
   ],
   "source": [
    "# Assign 'id' attribute to each vertex according to ID list of choice (unique or random)\n",
    "graph.vs['code'] = code\n",
    "\n",
    "# Plot with IDs\n",
    "plot(graph, vertex_label=code)\n",
    "\n",
    "# https://igraph.org/python/doc/tutorial/tutorial.html#creating-a-graph-from-scratch \n",
    "# Plotting tutorial"
   ]
  },
  {
   "cell_type": "code",
   "execution_count": 246,
   "metadata": {},
   "outputs": [
    {
     "name": "stdout",
     "output_type": "stream",
     "text": [
      "Vertex ID:  0  // Vertex Code:  7 - Neighbors: [2, 2, 6, 7]\n",
      "Vertex ID:  1  // Vertex Code:  1 - Neighbors: [0, 2, 2, 2, 9]\n",
      "Vertex ID:  2  // Vertex Code:  5 - Neighbors: [0, 7, 9]\n",
      "Vertex ID:  3  // Vertex Code:  0 - Neighbors: [1, 5, 2, 7]\n",
      "Vertex ID:  4  // Vertex Code:  2 - Neighbors: [7, 1, 0, 2, 7]\n",
      "Vertex ID:  5  // Vertex Code:  2 - Neighbors: [1, 2, 6]\n",
      "Vertex ID:  6  // Vertex Code:  2 - Neighbors: [7, 1, 2, 2, 6]\n",
      "Vertex ID:  7  // Vertex Code:  6 - Neighbors: [7, 2, 2, 7]\n",
      "Vertex ID:  8  // Vertex Code:  7 - Neighbors: [7, 5, 0, 2, 6]\n",
      "Vertex ID:  9  // Vertex Code:  9 - Neighbors: [1, 5]\n"
     ]
    }
   ],
   "source": [
    "# Access neighbors of vertices by ID\n",
    "# Vertex ID: always unique no matter the code \n",
    "# Vertex Code: the code given to each vertex, representing some landmark sequence observed on over that street segment\n",
    "for vertex in graph.vs:\n",
    "    neighbors = graph.neighbors(vertex, mode=\"all\")\n",
    "    print('Vertex ID: ', vertex.index, ' // Vertex Code: ', vertex['code'], '- Neighbors:', graph.vs[neighbors]['code'])\n"
   ]
  },
  {
   "cell_type": "markdown",
   "metadata": {},
   "source": [
    "# Path walking"
   ]
  },
  {
   "cell_type": "code",
   "execution_count": 408,
   "metadata": {},
   "outputs": [],
   "source": [
    "from random import randint, choices\n",
    " \n",
    "# Source: http://igraph.wikidot.com/python-recipes#toc6\n",
    "def random_walk_iter(graph, start=None): \n",
    "    current = randint(0, graph.vcount()-1) if start is None else start # TODO: make this pick a random Vertex Code?\n",
    "    \"\"\"\n",
    "    while True: \n",
    "        #for vertex in graph.vs:\n",
    "        #    neighbors = graph.neighbors(vertex, mode=\"all\")\n",
    "        #    print('Vertex ID: ', vertex.index, ' // Vertex Code: ', vertex['code'], '- Neighbors:', graph.vs[neighbors]['code'])\n",
    "        yield current\n",
    "        #vertex = list(graph.vs.select(code_eq = current)['code']) \n",
    "        #print('vertex is ', vertex)\n",
    "        \n",
    "        \n",
    "        verticesWithThisCode = graph.vs.select(code_eq = current) # Extract vertices with 'code' attribute equal to \"current\"\n",
    "        print('vertices with this code ', verticesWithThisCode)\n",
    "        pickedVertex = choices(verticesWithThisCode, k=1)[0] # Randomly choose one and find its neighbors\n",
    "        print('picked vertex ', pickedVertex)\n",
    "        \n",
    "        neighbors = graph.neighbors(pickedVertex, mode=\"all\") \n",
    "        print('neighbors ', neighbors)\n",
    "        \n",
    "        \n",
    "        \n",
    "        current = choices(graph.vs[neighbors], k=1)[0] # Randomly choose a neighbor\n",
    "        #print('neighbors of first vertex are (ID) ', graph.neighbors(vertex[0], mode=\"all\"))\n",
    "        #print('neighbors of first vertex are (Code) ', graph.vs[graph.neighbors(vertex[0], mode=\"all\")]['code'])\n",
    "        print('current is ', current)\n",
    "        #current = choices(g.successors(current), k=1)[0]\n",
    "    \"\"\"\n",
    "    current = randint(0, graph.vcount()-1) if start is None else start \n",
    "    predecessor = None\n",
    "    #print('Starting from vertex (ID)', start)\n",
    "    while True: \n",
    "        #print('yielding ', current)\n",
    "        yield current\n",
    "        neighbors = graph.successors(current) # get neighbors (ID)\n",
    "        if predecessor is not None: # remove current ID so you can't return to the same vertex\n",
    "            #print('predecessor:', predecessor)\n",
    "            #print('neighbors before: ', neighbors)\n",
    "            if predecessor in neighbors:\n",
    "                neighbors.remove(predecessor)\n",
    "            #print('neighbors after: ', neighbors)\n",
    "        #else:\n",
    "            #print(neighbors)\n",
    "        predecessor = current\n",
    "        if len(neighbors) > 0:\n",
    "            current = choices(neighbors)[0]\n",
    "            "
   ]
  },
  {
   "cell_type": "code",
   "execution_count": 347,
   "metadata": {},
   "outputs": [
    {
     "name": "stdout",
     "output_type": "stream",
     "text": [
      "Walk (ID) [5, 7, 8, 4, 3, 8, 0, 6, 4, 0, 6, 4, 8, 7, 6, 0, 7, 8, 2, 3, 4, 0, 8, 2, 3, 8, 4, 3, 8, 7, 6, 4, 1, 5, 6, 1, 5, 6, 0, 4, 3, 1, 6, 5, 7, 0, 8, 7, 5, 1, 3, 4, 1, 3, 8, 4, 3, 1, 5, 7, 0, 6, 4, 8, 0, 7, 8, 4, 0, 6, 4, 3, 2, 9, 1, 4, 8, 0, 4, 6, 5, 1, 3, 2, 9, 1, 4, 0, 7, 5, 6, 0, 4, 6, 0, 8, 4, 6, 5, 7]\n",
      "\n",
      "Walk (Code) [2, 6, 7, 2, 0, 7, 7, 2, 2, 7, 2, 2, 7, 6, 2, 7, 6, 7, 5, 0, 2, 7, 7, 5, 0, 7, 2, 0, 7, 6, 2, 2, 1, 2, 2, 1, 2, 2, 7, 2, 0, 1, 2, 2, 6, 7, 7, 6, 2, 1, 0, 2, 1, 0, 7, 2, 0, 1, 2, 6, 7, 2, 2, 7, 7, 6, 7, 2, 7, 2, 2, 0, 5, 9, 1, 2, 7, 7, 2, 2, 2, 1, 0, 5, 9, 1, 2, 7, 6, 2, 2, 7, 2, 2, 7, 7, 2, 2, 2, 6]\n"
     ]
    }
   ],
   "source": [
    "from itertools import islice\n",
    "\n",
    "walk_length = 100\n",
    "walk_ID = list(islice(random_walk_iter(graph, start=5), walk_length)) # start = vertex ID to start at, not vertex code\n",
    "print('Walk (ID)', walk_ID) # The walk in terms of the always unique vertex IDs\n",
    "\n",
    "print()\n",
    "\n",
    "walkCode = graph.vs[walk_ID]['code']\n",
    "print('Walk (Code)', walkCode) # The walk translated from the unique vertex IDs to the vertex codes"
   ]
  },
  {
   "cell_type": "markdown",
   "metadata": {},
   "source": [
    "# Path analysis and uniqueness checking"
   ]
  },
  {
   "cell_type": "code",
   "execution_count": 348,
   "metadata": {},
   "outputs": [
    {
     "name": "stdout",
     "output_type": "stream",
     "text": [
      "Walk length (ID):  100  // Unique locations visited (ID):  10\n",
      "Walk length (Code):  100  // Unique locations visited (Code):  7\n",
      "Number of vertices:  10  // Number of unique vertex codes:  7\n"
     ]
    }
   ],
   "source": [
    "print('Walk length (ID): ', len(walk_ID), ' // Unique locations visited (ID): ', len(set(walk_ID)))\n",
    "print('Walk length (Code): ', len(walkCode), ' // Unique locations visited (Code): ', len(set(walkCode)))\n",
    "print('Number of vertices: ', N, ' // Number of unique vertex codes: ', len(set(code)))"
   ]
  },
  {
   "cell_type": "code",
   "execution_count": 401,
   "metadata": {},
   "outputs": [],
   "source": [
    "def isUnique(graph, walk_ID, debug=False):\n",
    "    # Given the graph representing the street segments and a walk taken \n",
    "    # along the graph in progress (as a list, and not necessarily a \n",
    "    # finished walk), this returns True if the walk is unique in the graph\n",
    "    # and False otherwise. Use to determine the step that uniquely identifies\n",
    "    # a walk by calling the function on walks after each new step is appended.\n",
    "    \n",
    "    # Given the graph and the walk in terms of always unique vertex IDs, what's the shortest part of the observed \n",
    "    # walk that uniquely points to a single vertex?\n",
    "    \n",
    "    steps = len(walk_ID)\n",
    "    \n",
    "    neighborList = []\n",
    "    potentialNeighbors = []\n",
    "    for i in range(steps):\n",
    "        code = graph.vs[walk_ID[i]]['code'] # Extract code of the actual vertex you're going to\n",
    "        \n",
    "        if debug:\n",
    "            print('Working on code ', code)\n",
    "        \n",
    "        neighborsToAdd = []\n",
    "        for vertex in graph.vs:\n",
    "            if vertex['code'] is code:\n",
    "                neighbors = graph.neighbors(vertex, mode='all')\n",
    "                neighborsToAdd.append(neighbors)\n",
    "                \n",
    "        neighborList.append(neighborsToAdd)\n",
    "                \n",
    "        \n",
    "        \n",
    "        #print('Neighbor list (ID) so far: ', neighborList)\n",
    "        \n",
    "        \n",
    "        if i == 0:\n",
    "            potentialNeighbors = []\n",
    "            for j in range(len(neighborsToAdd)):\n",
    "                #print(graph.vs[neighborList[i][j]]['code'])\n",
    "                potentialNeighbors.append(graph.vs[neighborList[i][j]]['code'])\n",
    "        \n",
    "        else:\n",
    "            presenceFlags = [0]*len(potentialNeighbors)\n",
    "            for j in range(len(potentialNeighbors)):\n",
    "                if debug:\n",
    "                    print('Checking ', potentialNeighbors[j])\n",
    "                if code in potentialNeighbors[j]:\n",
    "                    presenceFlags[j] = 1\n",
    "                    if debug:\n",
    "                        print('    Potential neighbor found')\n",
    "                    \n",
    "            potentialNeighbors = []\n",
    "            for j in range(len(neighborsToAdd)):\n",
    "                potentialNeighbors.append(graph.vs[neighborList[i][j]]['code'])\n",
    "\n",
    "        if debug:\n",
    "            print('Neighbor list (Code) of the current', code, ': ', graph.vs[graph.neighbors(graph.vs[walk_ID[i]], mode='all')]['code'])\n",
    "        \n",
    "            print('Potential neighbors (Code)', potentialNeighbors)\n",
    "        \n",
    "        if len(neighborList[i]) == 1:\n",
    "            if debug:\n",
    "                print('Reached uniquely occuring code', code, 'at step', i+1)\n",
    "            return i \n",
    "        \n",
    "        elif len(potentialNeighbors) == 1:\n",
    "            if debug:\n",
    "                print('Only one potential neighbor', potentialNeighbors[0], 'at step', i+1)\n",
    "            return i\n",
    "        \n",
    "        # Extract the potential neighbor lists (code)\n",
    "        # Get the next code\n",
    "        # Narrow down potential neighbor lists (code) to those that include this next code\n",
    "        # Repeat until only 1 potential neighbor list left\n",
    "        \n",
    "        \n",
    "        if debug:\n",
    "            print()\n",
    "\n",
    "        \n",
    "        "
   ]
  },
  {
   "cell_type": "code",
   "execution_count": 356,
   "metadata": {},
   "outputs": [
    {
     "name": "stdout",
     "output_type": "stream",
     "text": [
      "Walk (ID):  [5, 7, 8, 4, 3, 8, 0, 6, 4, 0, 6, 4, 8, 7, 6, 0, 7, 8, 2, 3, 4, 0, 8, 2, 3, 8, 4, 3, 8, 7, 6, 4, 1, 5, 6, 1, 5, 6, 0, 4, 3, 1, 6, 5, 7, 0, 8, 7, 5, 1, 3, 4, 1, 3, 8, 4, 3, 1, 5, 7, 0, 6, 4, 8, 0, 7, 8, 4, 0, 6, 4, 3, 2, 9, 1, 4, 8, 0, 4, 6, 5, 1, 3, 2, 9, 1, 4, 0, 7, 5, 6, 0, 4, 6, 0, 8, 4, 6, 5, 7]\n",
      "Walk (Code):  [2, 6, 7, 2, 0, 7, 7, 2, 2, 7, 2, 2, 7, 6, 2, 7, 6, 7, 5, 0, 2, 7, 7, 5, 0, 7, 2, 0, 7, 6, 2, 2, 1, 2, 2, 1, 2, 2, 7, 2, 0, 1, 2, 2, 6, 7, 7, 6, 2, 1, 0, 2, 1, 0, 7, 2, 0, 1, 2, 6, 7, 2, 2, 7, 7, 6, 7, 2, 7, 2, 2, 0, 5, 9, 1, 2, 7, 7, 2, 2, 2, 1, 0, 5, 9, 1, 2, 7, 6, 2, 2, 7, 2, 2, 7, 7, 2, 2, 2, 6]\n",
      "Working on code  2\n",
      "Neighbor list (Code) of the current 2 :  [1, 2, 6]\n",
      "Potential neighbors (Code) [[7, 1, 0, 2, 7], [1, 2, 6], [7, 1, 2, 2, 6]]\n",
      "\n",
      "Working on code  6\n",
      "Checking  [7, 1, 0, 2, 7]\n",
      "Checking  [1, 2, 6]\n",
      "    Potential neighbor found\n",
      "Checking  [7, 1, 2, 2, 6]\n",
      "    Potential neighbor found\n",
      "Neighbor list (Code) of the current 6 :  [7, 2, 2, 7]\n",
      "Potential neighbors (Code) [[7, 2, 2, 7]]\n",
      "Reached uniquely occuring code 6 at step 2\n"
     ]
    }
   ],
   "source": [
    "# Driving the function\n",
    "skip = 0 # skip indicates the index to start the walk from to test a desired situation\n",
    "print('Walk (ID): ', walk_ID[skip:])\n",
    "print('Walk (Code): ', walkCode[skip:])\n",
    "shortestUniqueWalk = isUnique(graph, walk_ID[skip:]) \n",
    "    "
   ]
  },
  {
   "cell_type": "code",
   "execution_count": 357,
   "metadata": {},
   "outputs": [
    {
     "name": "stdout",
     "output_type": "stream",
     "text": [
      "Shortest unique walk (# steps):  2\n",
      "\n",
      "Original path (Code):  [2, 6, 7, 2, 0, 7, 7, 2, 2, 7, 2, 2, 7, 6, 2, 7, 6, 7, 5, 0, 2, 7, 7, 5, 0, 7, 2, 0, 7, 6, 2, 2, 1, 2, 2, 1, 2, 2, 7, 2, 0, 1, 2, 2, 6, 7, 7, 6, 2, 1, 0, 2, 1, 0, 7, 2, 0, 1, 2, 6, 7, 2, 2, 7, 7, 6, 7, 2, 7, 2, 2, 0, 5, 9, 1, 2, 7, 7, 2, 2, 2, 1, 0, 5, 9, 1, 2, 7, 6, 2, 2, 7, 2, 2, 7, 7, 2, 2, 2, 6]\n"
     ]
    }
   ],
   "source": [
    "print('Shortest unique walk (# steps): ', shortestUniqueWalk + 1)\n",
    "print()\n",
    "print('Original path (Code): ', walkCode)"
   ]
  },
  {
   "cell_type": "markdown",
   "metadata": {},
   "source": [
    "# Testing"
   ]
  },
  {
   "cell_type": "code",
   "execution_count": 501,
   "metadata": {
    "scrolled": false
   },
   "outputs": [
    {
     "name": "stdout",
     "output_type": "stream",
     "text": [
      "Working on N = 10 , uniquePercentage = 1.0\n",
      "Working on N = 10 , uniquePercentage = 0.95\n",
      "Working on N = 10 , uniquePercentage = 0.9\n",
      "Working on N = 10 , uniquePercentage = 0.85\n",
      "Working on N = 10 , uniquePercentage = 0.8\n",
      "Working on N = 10 , uniquePercentage = 0.75\n",
      "Working on N = 10 , uniquePercentage = 0.7\n",
      "Working on N = 10 , uniquePercentage = 0.65\n",
      "Working on N = 10 , uniquePercentage = 0.6\n",
      "Working on N = 10 , uniquePercentage = 0.55\n",
      "Working on N = 10 , uniquePercentage = 0.5\n",
      "Working on N = 10 , uniquePercentage = 0.45\n",
      "Working on N = 10 , uniquePercentage = 0.4\n",
      "Working on N = 10 , uniquePercentage = 0.35\n",
      "Working on N = 10 , uniquePercentage = 0.3\n",
      "Working on N = 10 , uniquePercentage = 0.25\n",
      "Working on N = 10 , uniquePercentage = 0.2\n",
      "Working on N = 10 , uniquePercentage = 0.15\n",
      "Working on N = 10 , uniquePercentage = 0.1\n",
      "Working on N = 100 , uniquePercentage = 1.0\n",
      "Working on N = 100 , uniquePercentage = 0.95\n",
      "Working on N = 100 , uniquePercentage = 0.9\n",
      "Working on N = 100 , uniquePercentage = 0.85\n",
      "Working on N = 100 , uniquePercentage = 0.8\n",
      "Working on N = 100 , uniquePercentage = 0.75\n",
      "Working on N = 100 , uniquePercentage = 0.7\n",
      "Working on N = 100 , uniquePercentage = 0.65\n",
      "Working on N = 100 , uniquePercentage = 0.6\n",
      "Working on N = 100 , uniquePercentage = 0.55\n",
      "Working on N = 100 , uniquePercentage = 0.5\n",
      "Working on N = 100 , uniquePercentage = 0.45\n",
      "Working on N = 100 , uniquePercentage = 0.4\n",
      "Working on N = 100 , uniquePercentage = 0.35\n",
      "Working on N = 100 , uniquePercentage = 0.3\n",
      "Working on N = 100 , uniquePercentage = 0.25\n",
      "Working on N = 100 , uniquePercentage = 0.2\n",
      "Working on N = 100 , uniquePercentage = 0.15\n",
      "Working on N = 100 , uniquePercentage = 0.1\n",
      "Working on N = 1000 , uniquePercentage = 1.0\n",
      "Working on N = 1000 , uniquePercentage = 0.95\n",
      "Working on N = 1000 , uniquePercentage = 0.9\n",
      "Working on N = 1000 , uniquePercentage = 0.85\n",
      "Working on N = 1000 , uniquePercentage = 0.8\n",
      "Working on N = 1000 , uniquePercentage = 0.75\n",
      "Working on N = 1000 , uniquePercentage = 0.7\n",
      "Working on N = 1000 , uniquePercentage = 0.65\n",
      "Working on N = 1000 , uniquePercentage = 0.6\n",
      "Working on N = 1000 , uniquePercentage = 0.55\n",
      "Working on N = 1000 , uniquePercentage = 0.5\n",
      "Working on N = 1000 , uniquePercentage = 0.45\n",
      "Working on N = 1000 , uniquePercentage = 0.4\n",
      "Working on N = 1000 , uniquePercentage = 0.35\n",
      "Working on N = 1000 , uniquePercentage = 0.3\n",
      "Working on N = 1000 , uniquePercentage = 0.25\n",
      "Working on N = 1000 , uniquePercentage = 0.2\n",
      "Working on N = 1000 , uniquePercentage = 0.15\n",
      "Working on N = 1000 , uniquePercentage = 0.1\n",
      "Working on N = 10000 , uniquePercentage = 1.0\n",
      "Working on N = 10000 , uniquePercentage = 0.95\n",
      "Working on N = 10000 , uniquePercentage = 0.9\n",
      "Working on N = 10000 , uniquePercentage = 0.85\n",
      "Working on N = 10000 , uniquePercentage = 0.8\n",
      "Working on N = 10000 , uniquePercentage = 0.75\n",
      "Working on N = 10000 , uniquePercentage = 0.7\n",
      "Working on N = 10000 , uniquePercentage = 0.65\n",
      "Working on N = 10000 , uniquePercentage = 0.6\n",
      "Working on N = 10000 , uniquePercentage = 0.55\n",
      "Working on N = 10000 , uniquePercentage = 0.5\n",
      "Working on N = 10000 , uniquePercentage = 0.45\n",
      "Working on N = 10000 , uniquePercentage = 0.4\n",
      "Working on N = 10000 , uniquePercentage = 0.35\n",
      "Working on N = 10000 , uniquePercentage = 0.3\n",
      "Working on N = 10000 , uniquePercentage = 0.25\n",
      "Working on N = 10000 , uniquePercentage = 0.2\n",
      "Working on N = 10000 , uniquePercentage = 0.15\n",
      "Working on N = 10000 , uniquePercentage = 0.1\n"
     ]
    },
    {
     "data": {
      "text/plain": [
       "<Figure size 432x288 with 0 Axes>"
      ]
     },
     "metadata": {},
     "output_type": "display_data"
    }
   ],
   "source": [
    "from math import floor\n",
    "from igraph import *\n",
    "from itertools import islice\n",
    "from random import randint, choices, sample, shuffle\n",
    "import matplotlib.pyplot as plt\n",
    "\n",
    "numTrials = 1000\n",
    "uniquePercentage = 0.5 # from 0.0 to 1.0, the fraction of N (number of street segments) that are unique\n",
    "walk_length = 100\n",
    "N = 1000 # number of street segments (vertices)\n",
    "\n",
    "uniquePercentage_list = [1.0, 0.95, 0.9, 0.85, 0.8, 0.75, 0.7, 0.65, 0.6, 0.55, 0.5, 0.45, 0.4, 0.35, 0.3, 0.25, 0.2, 0.15, 0.1] # 19 values\n",
    "N_list = [10, 100, 1000, 10000] # 4 values\n",
    "numTestConfigs = len(uniquePercentage_list) * len(N_list)\n",
    "\n",
    "masterResults = {}\n",
    "masterResults['averageSteps'] = [0]*numTestConfigs\n",
    "masterResults['failureRate'] = [0.0]*numTestConfigs\n",
    "z = 0 # iteration variable for masterResults\n",
    "\n",
    "for N in N_list:\n",
    "    for uniquePercentage in uniquePercentage_list:\n",
    "        print(\"Working on N =\", N, \", uniquePercentage =\", uniquePercentage)\n",
    "\n",
    "        results = {}\n",
    "        results['walk_length'] = walk_length\n",
    "        results['steps'] = [0]*numTrials\n",
    "        results['averageSteps'] = 0\n",
    "        results['failures'] = [0]*numTrials\n",
    "        results['failureRate'] = 0.0\n",
    "\n",
    "        for x in range(numTrials):\n",
    "\n",
    "            #if x % 10 == 0 and x > 0:\n",
    "            #    print('Working on trial ', x)\n",
    "\n",
    "\n",
    "            # Unique code generator \n",
    "            unique_code = list(range(N))\n",
    "            #print('Unique codes:', unique_code) \n",
    "\n",
    "            # Random code generator\n",
    "            #weights = [55, 5, 5, 5, 5, 5, 5, 5, 5, 5] # for biasing sample choices. Has to be same length as population being sampled (N)\n",
    "            numUnique = floor(N*uniquePercentage)\n",
    "            random_code = sample(unique_code, k=numUnique)\n",
    "\n",
    "            for y in range(N - numUnique):\n",
    "                tmp = choices(random_code, k = 1)[0]\n",
    "                random_code.append(tmp)\n",
    "\n",
    "            shuffle(random_code) # Randomly shuffle codes (in place)\n",
    "\n",
    "            #random_code = choices(unique_code, k=N)\n",
    "            #print('Random codes:', random_code)\n",
    "\n",
    "            # Code type select\n",
    "            code = random_code\n",
    "\n",
    "            # Graph creation\n",
    "            graph = Graph.Erdos_Renyi(n=N, m=N*2, directed=False, loops=False)\n",
    "\n",
    "            # Assign 'code' attribute to each vertex according to code list of choice (unique or random)\n",
    "            graph.vs['code'] = code\n",
    "            #print(code)\n",
    "\n",
    "\n",
    "            #for vertex in graph.vs:\n",
    "                #neighbors = graph.neighbors(vertex, mode=\"all\")\n",
    "                #print('Vertex ID: ', vertex.index, ' // Vertex Code: ', vertex['code'], '- Neighbors:', graph.vs[neighbors]['code'])\n",
    "\n",
    "            # Plot with codes\n",
    "            #layout = graph.layout(\"kk\")\n",
    "            # graph exists correctly but vertex labeling is all messed up???\n",
    "            #plot(graph, vertex_label=graph.vs['code'], layout=layout)\n",
    "\n",
    "            # Walk generation\n",
    "            walk_ID = list(islice(random_walk_iter(graph, start=0), walk_length)) # start = vertex ID to start at, not vertex code\n",
    "\n",
    "            #print('Walk (ID)', walk_ID) # The walk in terms of the always unique vertex IDs\n",
    "            #print()\n",
    "\n",
    "            walkCode = graph.vs[walk_ID]['code']\n",
    "            #print('Walk (Code)', walkCode) # The walk translated from the unique vertex IDs to the vertex codes\n",
    "\n",
    "            #print('Walk length (ID): ', len(walk_ID), ' // Unique locations visited (ID): ', len(set(walk_ID)))\n",
    "            #print('Walk length (Code): ', len(walkCode), ' // Unique locations visited (Code): ', len(set(walkCode)))\n",
    "            #print('Number of vertices: ', N, ' // Number of unique vertex codes: ', len(set(code)))\n",
    "            #print()\n",
    "\n",
    "            # Find shortest unique walk\n",
    "            shortestUniqueWalk = isUnique(graph, walk_ID) \n",
    "            #print()\n",
    "\n",
    "            # Results\n",
    "            #print('Shortest unique walk (# steps): ', shortestUniqueWalk + 1)\n",
    "            #print()\n",
    "            #print('Original path (Code): ', walkCode)\n",
    "            if shortestUniqueWalk is not None:\n",
    "                results['steps'][x] = shortestUniqueWalk + 1\n",
    "            else:\n",
    "                results['failures'][x] = 1.0\n",
    "\n",
    "        results['failureRate'] = sum(results['failures']) / len(results['failures'])\n",
    "\n",
    "        # Drop 0 steps before calculating average \n",
    "        resultsTrimmed = []\n",
    "        for i in range(len(results['steps'])):\n",
    "            if results['steps'][i] > 0:\n",
    "                resultsTrimmed.append(results['steps'][i])\n",
    "        if len(resultsTrimmed) > 0:\n",
    "            results['averageSteps'] = sum(resultsTrimmed) / len(resultsTrimmed)\n",
    "        else:\n",
    "            results['averageSteps'] = 0\n",
    "        \n",
    "        # Log masterResults\n",
    "        masterResults['averageSteps'][z] = results['averageSteps']\n",
    "        masterResults['failureRate'][z] = results['failureRate']      \n",
    "        z += 1\n",
    "        \n",
    "        plt.xlabel('Number of steps')\n",
    "        plt.ylabel('Probability')\n",
    "        plt.title('PDF: steps needed (' + str(uniquePercentage*100) + '% unique codes, ' + str(N) + ' vertices,  ' + str(numTrials) + ' trials)')\n",
    "\n",
    "        #fig=plt.figure(figsize=(18, 16), dpi= 80, facecolor='w', edgecolor='k')\n",
    "        #fig.show()\n",
    "\n",
    "        #plt.figure(figsize=(10, 6), dpi=80)\n",
    "        stepsMax = max(results['steps'])\n",
    "        stepsMin = min(results['steps'])\n",
    "        if stepsMax == stepsMin:\n",
    "            bins = 1\n",
    "        else:\n",
    "            bins = stepsMax - stepsMin\n",
    "\n",
    "        plt.hist(results['steps'], bins=bins, density=True)\n",
    "        filename = 'pdf_' + str(uniquePercentage) + 'unique_' + str(N) + 'vertices_' + str(numTrials) + 'trials.png'\n",
    "        plt.savefig(filename)\n",
    "        plt.clf() # reset figure content"
   ]
  },
  {
   "cell_type": "code",
   "execution_count": 503,
   "metadata": {},
   "outputs": [
    {
     "data": {
      "text/plain": [
       "<Figure size 432x288 with 0 Axes>"
      ]
     },
     "metadata": {},
     "output_type": "display_data"
    }
   ],
   "source": [
    "# index 0-18: N=10, decreasing uniquePercentage\n",
    "# index 19-37: N=100, ...\n",
    "# index 38-56: N=1000\n",
    "# index 57-75: N=10000\n",
    "\n",
    "# Average steps vs. unique percentage for all N\n",
    "# Failure rate vs. unique percentage for all N\n",
    "\n",
    "i = 0\n",
    "for N in N_list:\n",
    "    plt.plot(uniquePercentage_list, masterResults['averageSteps'][i*19 : (i+1)*19])\n",
    "    plt.xlabel('Percentage of unique codes from all codes')\n",
    "    plt.ylabel('Average steps required for localization')\n",
    "    plt.title('Average steps required vs. Unique code percentage, # of vertices: ' + str(N))\n",
    "    plt.savefig('master_' + 'avgSteps_vs_uniquePercentage_' + str(N) + 'vertices.png')\n",
    "    plt.clf()\n",
    "    i += 1\n",
    "    \n",
    "i = 0\n",
    "for N in N_list:\n",
    "    plt.plot(uniquePercentage_list, masterResults['failureRate'][i*19 : (i+1)*19])\n",
    "    plt.xlabel('Percentage of unique codes from all codes')\n",
    "    plt.ylabel('Failure rate (could not localize in ' + str(walk_length) + ' steps)')\n",
    "    plt.title('Failure rate vs. Unique code percentage, # of vertices: ' + str(N))\n",
    "    plt.savefig('master_' + 'failureRate_vs_uniquePercentage_' + str(N) + 'vertices.png')\n",
    "    plt.clf()\n",
    "    i += 1"
   ]
  },
  {
   "cell_type": "code",
   "execution_count": 504,
   "metadata": {},
   "outputs": [],
   "source": [
    "import csv\n",
    "\n",
    "with open('data.csv', 'w', newline='') as myfile:\n",
    "    wr = csv.writer(myfile, quoting=csv.QUOTE_ALL)\n",
    "    wr.writerow(masterResults['averageSteps'])\n",
    "    wr.writerow(masterResults['failureRate'])\n",
    "    "
   ]
  },
  {
   "cell_type": "code",
   "execution_count": 498,
   "metadata": {},
   "outputs": [
    {
     "name": "stdout",
     "output_type": "stream",
     "text": [
      "Average steps to localization: 4.172901921132457\n",
      "Failure rate (could not localize): 1.0999999999999999 %\n"
     ]
    },
    {
     "data": {
      "image/png": "[encoded data removed]",
      "text/plain": [
       "<Figure size 432x288 with 1 Axes>"
      ]
     },
     "metadata": {
      "needs_background": "light"
     },
     "output_type": "display_data"
    }
   ],
   "source": [
    "#plt.plot(range(numTrials), results['steps'])\n",
    "plt.xlabel('Number of steps')\n",
    "plt.ylabel('Probability')\n",
    "plt.title('PDF: steps needed (' + str(uniquePercentage*100) + '% unique codes, ' + str(N) + ' vertices,  ' + str(numTrials) + ' trials)')\n",
    "\n",
    "#fig=plt.figure(figsize=(18, 16), dpi= 80, facecolor='w', edgecolor='k')\n",
    "#fig.show()\n",
    "\n",
    "#plt.figure(figsize=(10, 6), dpi=80)\n",
    "stepsMax = max(results['steps'])\n",
    "stepsMin = min(results['steps'])\n",
    "if stepsMax == stepsMin:\n",
    "    bins = 1\n",
    "else:\n",
    "    bins = stepsMax - stepsMin\n",
    "    \n",
    "plt.hist(results['steps'], bins=bins, density=True)\n",
    "filename = 'pdf_' + str(uniquePercentage) + 'unique_' + str(N) + 'vertices_' + str(numTrials) + 'trials.png'\n",
    "plt.savefig(filename)\n",
    "\n",
    "print('Average steps to localization:', results['averageSteps'])\n",
    "print('Failure rate (could not localize):', results['failureRate']*100, '%')"
   ]
  },
  {
   "cell_type": "code",
   "execution_count": 453,
   "metadata": {},
   "outputs": [],
   "source": [
    "from collections import Counter\n",
    "\n",
    "a = Counter(results['steps'])"
   ]
  },
  {
   "cell_type": "code",
   "execution_count": 454,
   "metadata": {},
   "outputs": [
    {
     "data": {
      "text/plain": [
       "Counter({4: 114,\n",
       "         1: 210,\n",
       "         2: 167,\n",
       "         3: 150,\n",
       "         12: 11,\n",
       "         9: 24,\n",
       "         20: 2,\n",
       "         6: 51,\n",
       "         28: 3,\n",
       "         5: 88,\n",
       "         8: 34,\n",
       "         10: 16,\n",
       "         0: 7,\n",
       "         7: 46,\n",
       "         13: 9,\n",
       "         41: 1,\n",
       "         21: 4,\n",
       "         15: 7,\n",
       "         14: 12,\n",
       "         11: 11,\n",
       "         27: 1,\n",
       "         18: 6,\n",
       "         23: 2,\n",
       "         35: 1,\n",
       "         86: 1,\n",
       "         17: 2,\n",
       "         24: 2,\n",
       "         32: 1,\n",
       "         19: 2,\n",
       "         38: 1,\n",
       "         22: 3,\n",
       "         25: 3,\n",
       "         26: 2,\n",
       "         16: 2,\n",
       "         37: 3,\n",
       "         72: 1})"
      ]
     },
     "execution_count": 454,
     "metadata": {},
     "output_type": "execute_result"
    }
   ],
   "source": [
    "a"
   ]
  },
  {
   "cell_type": "markdown",
   "metadata": {},
   "source": [
    "# Sanity checks, examples, etc."
   ]
  },
  {
   "cell_type": "code",
   "execution_count": 93,
   "metadata": {},
   "outputs": [
    {
     "name": "stdout",
     "output_type": "stream",
     "text": [
      "igraph.Vertex(<igraph.Graph object at 0x00000274B9A27D68>, 0, {'id': 2})\n",
      "igraph.Vertex(<igraph.Graph object at 0x00000274B9A27D68>, 1, {'id': 8})\n",
      "igraph.Vertex(<igraph.Graph object at 0x00000274B9A27D68>, 2, {'id': 1})\n",
      "igraph.Vertex(<igraph.Graph object at 0x00000274B9A27D68>, 3, {'id': 4})\n",
      "igraph.Vertex(<igraph.Graph object at 0x00000274B9A27D68>, 4, {'id': 8})\n",
      "igraph.Vertex(<igraph.Graph object at 0x00000274B9A27D68>, 5, {'id': 4})\n",
      "igraph.Vertex(<igraph.Graph object at 0x00000274B9A27D68>, 6, {'id': 8})\n",
      "igraph.Vertex(<igraph.Graph object at 0x00000274B9A27D68>, 7, {'id': 3})\n",
      "igraph.Vertex(<igraph.Graph object at 0x00000274B9A27D68>, 8, {'id': 6})\n",
      "igraph.Vertex(<igraph.Graph object at 0x00000274B9A27D68>, 9, {'id': 5})\n"
     ]
    }
   ],
   "source": [
    "for vertex in list(graph.vs):\n",
    "    print(vertex)\n",
    "# Sanity check for ID assignment"
   ]
  },
  {
   "cell_type": "code",
   "execution_count": null,
   "metadata": {},
   "outputs": [],
   "source": [
    "        #print(graph.vs[walk_ID[i]]) # vertex accessed by ID\n",
    "        #print(graph.neighbors(graph.vs[walk_ID[i]], mode='all')) # neighbors (id)\n",
    "        #print(graph.vs[graph.neighbors(graph.vs[walk_ID[i]], mode='all')]['code']) # neighbors (code)"
   ]
  }
 ],
 "metadata": {
  "kernelspec": {
   "display_name": "Python 3",
   "language": "python",
   "name": "python3"
  },
  "language_info": {
   "codemirror_mode": {
    "name": "ipython",
    "version": 3
   },
   "file_extension": ".py",
   "mimetype": "text/x-python",
   "name": "python",
   "nbconvert_exporter": "python",
   "pygments_lexer": "ipython3",
   "version": "3.7.1"
  }
 },
 "nbformat": 4,
 "nbformat_minor": 2
}
